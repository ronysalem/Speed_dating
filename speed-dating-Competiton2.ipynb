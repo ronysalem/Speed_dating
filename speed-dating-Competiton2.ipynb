{
 "cells": [
  {
   "attachments": {},
   "cell_type": "markdown",
   "metadata": {},
   "source": [
    "## Problem Formulation: \n",
    "\n",
    "* Input: All Features in the data except id & match columns \n",
    "* Output : Whether the 2 persons would match or not \n",
    "* Data Mining Function : Classification and prediction \n",
    "* Impact : knowing if the couple is goning to match or not \n"
   ]
  },
  {
   "cell_type": "code",
   "execution_count": 1,
   "metadata": {
    "_cell_guid": "b1076dfc-b9ad-4769-8c92-a6c4dae69d19",
    "_uuid": "8f2839f25d086af736a60e9eeb907d3b93b6e0e5",
    "execution": {
     "iopub.execute_input": "2023-04-01T23:04:34.774537Z",
     "iopub.status.busy": "2023-04-01T23:04:34.773666Z",
     "iopub.status.idle": "2023-04-01T23:04:34.807216Z",
     "shell.execute_reply": "2023-04-01T23:04:34.805827Z",
     "shell.execute_reply.started": "2023-04-01T23:04:34.774493Z"
    }
   },
   "outputs": [
    {
     "name": "stdout",
     "output_type": "stream",
     "text": [
      "/kaggle/input/cisc-873-dm-w23-a2/Speed Dating Data Description.pdf\n",
      "/kaggle/input/cisc-873-dm-w23-a2/train.csv\n",
      "/kaggle/input/cisc-873-dm-w23-a2/test.csv\n"
     ]
    }
   ],
   "source": [
    "# This Python 3 environment comes with many helpful analytics libraries installed\n",
    "# It is defined by the kaggle/python Docker image: https://github.com/kaggle/docker-python\n",
    "# For example, here's several helpful packages to load\n",
    "\n",
    "import numpy as np # linear algebra\n",
    "import pandas as pd # data processing, CSV file I/O (e.g. pd.read_csv)\n",
    "\n",
    "# Input data files are available in the read-only \"../input/\" directory\n",
    "# For example, running this (by clicking run or pressing Shift+Enter) will list all files under the input directory\n",
    "\n",
    "import os\n",
    "for dirname, _, filenames in os.walk('/kaggle/input'):\n",
    "    for filename in filenames:\n",
    "        print(os.path.join(dirname, filename))\n",
    "\n",
    "# You can write up to 20GB to the current directory (/kaggle/working/) that gets preserved as output when you create a version using \"Save & Run All\" \n",
    "# You can also write temporary files to /kaggle/temp/, but they won't be saved outside of the current session"
   ]
  },
  {
   "cell_type": "code",
   "execution_count": 2,
   "metadata": {},
   "outputs": [
    {
     "name": "stdout",
     "output_type": "stream",
     "text": [
      "Collecting xgboost\n",
      "  Downloading xgboost-1.7.5-py3-none-win_amd64.whl (70.9 MB)\n",
      "     ---------------------------------------- 70.9/70.9 MB 7.9 MB/s eta 0:00:00\n",
      "Requirement already satisfied: scipy in c:\\users\\debi\\anaconda3\\lib\\site-packages (from xgboost) (1.9.1)\n",
      "Requirement already satisfied: numpy in c:\\users\\debi\\anaconda3\\lib\\site-packages (from xgboost) (1.21.5)\n",
      "Installing collected packages: xgboost\n",
      "Successfully installed xgboost-1.7.5\n"
     ]
    }
   ],
   "source": [
    "!pip install xgboost"
   ]
  },
  {
   "cell_type": "code",
   "execution_count": 3,
   "metadata": {},
   "outputs": [
    {
     "name": "stdout",
     "output_type": "stream",
     "text": [
      "Collecting scikit-optimize\n",
      "  Downloading scikit_optimize-0.9.0-py2.py3-none-any.whl (100 kB)\n",
      "     ------------------------------------ 100.3/100.3 kB 957.7 kB/s eta 0:00:00\n",
      "Requirement already satisfied: scikit-learn>=0.20.0 in c:\\users\\debi\\anaconda3\\lib\\site-packages (from scikit-optimize) (1.0.2)\n",
      "Requirement already satisfied: joblib>=0.11 in c:\\users\\debi\\anaconda3\\lib\\site-packages (from scikit-optimize) (1.1.0)\n",
      "Requirement already satisfied: numpy>=1.13.3 in c:\\users\\debi\\anaconda3\\lib\\site-packages (from scikit-optimize) (1.21.5)\n",
      "Collecting pyaml>=16.9\n",
      "  Downloading pyaml-21.10.1-py2.py3-none-any.whl (24 kB)\n",
      "Requirement already satisfied: scipy>=0.19.1 in c:\\users\\debi\\anaconda3\\lib\\site-packages (from scikit-optimize) (1.9.1)\n",
      "Requirement already satisfied: PyYAML in c:\\users\\debi\\anaconda3\\lib\\site-packages (from pyaml>=16.9->scikit-optimize) (6.0)\n",
      "Requirement already satisfied: threadpoolctl>=2.0.0 in c:\\users\\debi\\anaconda3\\lib\\site-packages (from scikit-learn>=0.20.0->scikit-optimize) (2.2.0)\n",
      "Installing collected packages: pyaml, scikit-optimize\n",
      "Successfully installed pyaml-21.10.1 scikit-optimize-0.9.0\n"
     ]
    }
   ],
   "source": [
    "!pip install scikit-optimize"
   ]
  },
  {
   "cell_type": "code",
   "execution_count": 4,
   "metadata": {
    "execution": {
     "iopub.execute_input": "2023-04-01T23:04:50.711786Z",
     "iopub.status.busy": "2023-04-01T23:04:50.711322Z",
     "iopub.status.idle": "2023-04-01T23:04:52.287849Z",
     "shell.execute_reply": "2023-04-01T23:04:52.286291Z",
     "shell.execute_reply.started": "2023-04-01T23:04:50.711744Z"
    }
   },
   "outputs": [],
   "source": [
    "#Import liberaries\n",
    "\n",
    "\n",
    "import numpy as np \n",
    "import pandas as pd \n",
    "import seaborn as sns \n",
    "import matplotlib.pyplot as plt \n",
    "%matplotlib inline\n",
    "from sklearn.model_selection import train_test_split, cross_val_score, GridSearchCV, KFold, RandomizedSearchCV\n",
    "from sklearn.metrics import classification_report, confusion_matrix, roc_curve, precision_score,recall_score, f1_score,precision_recall_curve\n",
    "sns.set()\n",
    "from sklearn.pipeline import make_pipeline\n",
    "from sklearn.preprocessing import StandardScaler, LabelEncoder, OneHotEncoder\n",
    "from sklearn.svm import SVC\n",
    "from time import time\n",
    "from sklearn.svm import LinearSVC\n",
    "from sklearn.decomposition import PCA\n",
    "\n",
    "from sklearn.compose import ColumnTransformer\n",
    "from sklearn.datasets import fetch_openml\n",
    "from sklearn.pipeline import Pipeline\n",
    "from sklearn.impute import SimpleImputer\n",
    "from sklearn.linear_model import LogisticRegression\n",
    "from sklearn.ensemble import RandomForestClassifier\n",
    "from xgboost.sklearn import XGBClassifier\n",
    "from sklearn.ensemble import GradientBoostingClassifier\n",
    "\n",
    "from skopt import BayesSearchCV\n",
    "from skopt.space import Real, Categorical, Integer\n",
    "from sklearn.model_selection import RandomizedSearchCV\n",
    "from sklearn.model_selection import PredefinedSplit"
   ]
  },
  {
   "cell_type": "markdown",
   "metadata": {},
   "source": [
    "## Reading The data"
   ]
  },
  {
   "cell_type": "code",
   "execution_count": 5,
   "metadata": {
    "execution": {
     "iopub.execute_input": "2023-04-01T23:05:15.892924Z",
     "iopub.status.busy": "2023-04-01T23:05:15.892482Z",
     "iopub.status.idle": "2023-04-01T23:05:16.114707Z",
     "shell.execute_reply": "2023-04-01T23:05:16.113531Z",
     "shell.execute_reply.started": "2023-04-01T23:05:15.892875Z"
    }
   },
   "outputs": [],
   "source": [
    "train_df = pd.read_csv('train.csv')\n",
    "test_df = pd.read_csv('test.csv')"
   ]
  },
  {
   "cell_type": "markdown",
   "metadata": {},
   "source": [
    "## Exploring the Data"
   ]
  },
  {
   "cell_type": "code",
   "execution_count": 4,
   "metadata": {
    "execution": {
     "iopub.execute_input": "2023-04-01T23:05:19.257174Z",
     "iopub.status.busy": "2023-04-01T23:05:19.256729Z",
     "iopub.status.idle": "2023-04-01T23:05:19.263906Z",
     "shell.execute_reply": "2023-04-01T23:05:19.262360Z",
     "shell.execute_reply.started": "2023-04-01T23:05:19.257135Z"
    }
   },
   "outputs": [],
   "source": [
    "## adjusting pandas print options \n",
    "\n",
    "pd.options.display.max_rows = 999\n",
    "pd.options.display.max_columns = 999\n"
   ]
  },
  {
   "cell_type": "code",
   "execution_count": 5,
   "metadata": {
    "execution": {
     "iopub.execute_input": "2023-04-01T23:05:21.862023Z",
     "iopub.status.busy": "2023-04-01T23:05:21.861586Z",
     "iopub.status.idle": "2023-04-01T23:05:21.885203Z",
     "shell.execute_reply": "2023-04-01T23:05:21.883834Z",
     "shell.execute_reply.started": "2023-04-01T23:05:21.861987Z"
    }
   },
   "outputs": [
    {
     "data": {
      "text/plain": [
       "num_in_3    5449\n",
       "numdat_3    4849\n",
       "expnum      4627\n",
       "amb7_2      4519\n",
       "sinc7_2     4519\n",
       "shar7_2     4505\n",
       "fun7_2      4498\n",
       "intel7_2    4498\n",
       "attr7_2     4498\n",
       "attr7_3     4496\n",
       "sinc7_3     4496\n",
       "intel7_3    4496\n",
       "fun7_3      4496\n",
       "amb7_3      4496\n",
       "shar7_3     4496\n",
       "shar2_3     4496\n",
       "attr5_3     4496\n",
       "sinc5_3     4496\n",
       "intel5_3    4496\n",
       "fun5_3      4496\n",
       "amb5_3      4496\n",
       "shar4_3     3838\n",
       "fun4_3      3838\n",
       "intel4_3    3838\n",
       "sinc4_3     3838\n",
       "attr4_3     3838\n",
       "attr2_3     3838\n",
       "sinc2_3     3838\n",
       "intel2_3    3838\n",
       "fun2_3      3838\n",
       "amb2_3      3838\n",
       "amb4_3      3838\n",
       "mn_sat      3674\n",
       "tuition     3365\n",
       "attr1_3     3105\n",
       "intel1_3    3105\n",
       "amb3_3      3105\n",
       "sinc3_3     3105\n",
       "intel3_3    3105\n",
       "shar1_3     3105\n",
       "amb1_3      3105\n",
       "fun1_3      3105\n",
       "fun3_3      3105\n",
       "attr3_3     3105\n",
       "sinc1_3     3105\n",
       "date_3      3105\n",
       "you_call    3105\n",
       "them_cal    3105\n",
       "amb3_s      3069\n",
       "sinc3_s     3069\n",
       "intel3_s    3069\n",
       "fun3_s      3069\n",
       "attr3_s     3069\n",
       "shar1_s     2994\n",
       "amb1_s      2994\n",
       "fun1_s      2994\n",
       "intel1_s    2994\n",
       "sinc1_s     2994\n",
       "attr1_s     2994\n",
       "income      2862\n",
       "amb5_2      2821\n",
       "sinc5_2     2821\n",
       "fun5_2      2821\n",
       "attr5_2     2821\n",
       "intel5_2    2821\n",
       "attr5_1     2452\n",
       "amb5_1      2452\n",
       "fun5_1      2452\n",
       "intel5_1    2452\n",
       "sinc5_1     2452\n",
       "undergra    2442\n",
       "amb2_2      1846\n",
       "sinc4_2     1846\n",
       "intel2_2    1846\n",
       "sinc2_2     1846\n",
       "attr2_2     1846\n",
       "shar4_2     1846\n",
       "amb4_2      1846\n",
       "fun2_2      1846\n",
       "intel4_2    1846\n",
       "fun4_2      1846\n",
       "attr4_2     1846\n",
       "shar2_2     1846\n",
       "shar4_1     1363\n",
       "amb4_1      1346\n",
       "fun4_1      1346\n",
       "intel4_1    1346\n",
       "sinc4_1     1346\n",
       "attr4_1     1346\n",
       "positin1    1318\n",
       "match_es     826\n",
       "shar_o       787\n",
       "shar         762\n",
       "zipcode      720\n",
       "numdat_2     670\n",
       "attr1_2      658\n",
       "amb3_2       647\n",
       "length       647\n",
       "satis_2      647\n",
       "intel1_2     647\n",
       "fun1_2       647\n",
       "amb1_2       647\n",
       "shar1_2      647\n",
       "attr3_2      647\n",
       "sinc1_2      647\n",
       "fun3_2       647\n",
       "intel3_2     647\n",
       "sinc3_2      647\n",
       "amb_o        512\n",
       "amb          504\n",
       "met_o        275\n",
       "fun_o        265\n",
       "fun          256\n",
       "met          252\n",
       "prob_o       235\n",
       "prob         227\n",
       "intel_o      220\n",
       "sinc_o       209\n",
       "intel        205\n",
       "sinc         200\n",
       "like_o       183\n",
       "like         175\n",
       "attr_o       153\n",
       "attr         143\n",
       "int_corr     109\n",
       "career_c     100\n",
       "shar1_1       88\n",
       "pf_o_sha      83\n",
       "fun3_1        81\n",
       "intel3_1      81\n",
       "amb3_1        81\n",
       "sinc3_1       81\n",
       "attr3_1       81\n",
       "pf_o_amb      73\n",
       "date          72\n",
       "amb1_1        71\n",
       "exphappy      70\n",
       "pf_o_fun      66\n",
       "amb2_1        65\n",
       "shar2_1       65\n",
       "age_o         65\n",
       "fun1_1        65\n",
       "career        64\n",
       "age           63\n",
       "pf_o_att      59\n",
       "field_cd      59\n",
       "pf_o_sin      59\n",
       "pf_o_int      59\n",
       "fun2_1        58\n",
       "sinc2_1       58\n",
       "intel2_1      58\n",
       "attr2_1       58\n",
       "imprace       58\n",
       "dining        58\n",
       "imprelig      58\n",
       "concerts      58\n",
       "tvsports      58\n",
       "sports        58\n",
       "museums       58\n",
       "art           58\n",
       "hiking        58\n",
       "gaming        58\n",
       "clubbing      58\n",
       "reading       58\n",
       "tv            58\n",
       "theater       58\n",
       "movies        58\n",
       "music         58\n",
       "shopping      58\n",
       "yoga          58\n",
       "attr1_1       58\n",
       "sinc1_1       58\n",
       "intel1_1      58\n",
       "go_out        58\n",
       "exercise      58\n",
       "from          58\n",
       "goal          58\n",
       "race_o        48\n",
       "race          45\n",
       "field         45\n",
       "pid            8\n",
       "gender         0\n",
       "idg            0\n",
       "samerace       0\n",
       "match          0\n",
       "partner        0\n",
       "order          0\n",
       "position       0\n",
       "round          0\n",
       "wave           0\n",
       "condtn         0\n",
       "id             0\n",
       "dtype: int64"
      ]
     },
     "execution_count": 5,
     "metadata": {},
     "output_type": "execute_result"
    }
   ],
   "source": [
    "## checking For Null values\n",
    "train_df.isna().sum().sort_values(ascending=False)"
   ]
  },
  {
   "cell_type": "code",
   "execution_count": 7,
   "metadata": {
    "execution": {
     "iopub.execute_input": "2023-04-01T23:05:27.984924Z",
     "iopub.status.busy": "2023-04-01T23:05:27.983696Z",
     "iopub.status.idle": "2023-04-01T23:05:28.015863Z",
     "shell.execute_reply": "2023-04-01T23:05:28.014836Z",
     "shell.execute_reply.started": "2023-04-01T23:05:27.984876Z"
    }
   },
   "outputs": [
    {
     "name": "stdout",
     "output_type": "stream",
     "text": [
      "<class 'pandas.core.frame.DataFrame'>\n",
      "RangeIndex: 5909 entries, 0 to 5908\n",
      "Columns: 192 entries, gender to id\n",
      "dtypes: float64(173), int64(11), object(8)\n",
      "memory usage: 8.7+ MB\n"
     ]
    }
   ],
   "source": [
    "## investigating the data types we have\n",
    "train_df.info()"
   ]
  },
  {
   "cell_type": "code",
   "execution_count": 6,
   "metadata": {
    "execution": {
     "iopub.execute_input": "2023-04-01T23:05:30.071863Z",
     "iopub.status.busy": "2023-04-01T23:05:30.071089Z",
     "iopub.status.idle": "2023-04-01T23:05:30.078314Z",
     "shell.execute_reply": "2023-04-01T23:05:30.077262Z",
     "shell.execute_reply.started": "2023-04-01T23:05:30.071807Z"
    }
   },
   "outputs": [],
   "source": [
    "#Copy of the dataset inorder to keep the original one\n",
    "train_df2 = train_df.copy()"
   ]
  },
  {
   "cell_type": "code",
   "execution_count": 9,
   "metadata": {
    "execution": {
     "iopub.execute_input": "2023-04-01T23:05:32.301570Z",
     "iopub.status.busy": "2023-04-01T23:05:32.301128Z",
     "iopub.status.idle": "2023-04-01T23:05:32.323128Z",
     "shell.execute_reply": "2023-04-01T23:05:32.321508Z",
     "shell.execute_reply.started": "2023-04-01T23:05:32.301530Z"
    }
   },
   "outputs": [
    {
     "data": {
      "text/plain": [
       "((5909, 11), (5909, 173), (5909, 8))"
      ]
     },
     "execution_count": 9,
     "metadata": {},
     "output_type": "execute_result"
    }
   ],
   "source": [
    "## separating every single datatype in a single DF \n",
    "int_cols = train_df2.select_dtypes('int64')\n",
    "float_cols = train_df2.select_dtypes('float64')\n",
    "obj_cols = train_df2.select_dtypes('object')\n",
    "\n",
    "int_cols.shape, float_cols.shape, obj_cols.shape"
   ]
  },
  {
   "cell_type": "code",
   "execution_count": 10,
   "metadata": {
    "execution": {
     "iopub.execute_input": "2023-03-30T00:59:44.397326Z",
     "iopub.status.busy": "2023-03-30T00:59:44.396101Z",
     "iopub.status.idle": "2023-03-30T00:59:44.407040Z",
     "shell.execute_reply": "2023-03-30T00:59:44.405947Z",
     "shell.execute_reply.started": "2023-03-30T00:59:44.397278Z"
    }
   },
   "outputs": [
    {
     "data": {
      "text/plain": [
       "Business                                                    354\n",
       "MBA                                                         324\n",
       "Law                                                         309\n",
       "Social Work                                                 272\n",
       "International Affairs                                       189\n",
       "Electrical Engineering                                      120\n",
       "Psychology                                                   97\n",
       "law                                                          90\n",
       "business                                                     82\n",
       "Finance                                                      81\n",
       "Film                                                         67\n",
       "Mathematics                                                  66\n",
       "Sociology                                                    65\n",
       "Biology                                                      61\n",
       "Engineering                                                  56\n",
       "Clinical Psychology                                          54\n",
       "Biochemistry                                                 53\n",
       "Business (MBA)                                               50\n",
       "Economics                                                    48\n",
       "Political Science                                            45\n",
       "medicine                                                     43\n",
       "School Psychology                                            42\n",
       "Operations Research                                          40\n",
       "chemistry                                                    38\n",
       "Physics                                                      38\n",
       "Education                                                    38\n",
       "Computer Science                                             37\n",
       "sociology                                                    37\n",
       "Mechanical Engineering                                       36\n",
       "Medicine                                                     35\n",
       "Genetics                                                     34\n",
       "Urban Planning                                               34\n",
       "Biomedical Engineering                                       33\n",
       "English                                                      32\n",
       "engineering                                                  30\n",
       "psychology                                                   30\n",
       "Classics                                                     29\n",
       "EDUCATION                                                    27\n",
       "MFA Acting Program                                           27\n",
       "International affairs                                        27\n",
       "History                                                      27\n",
       "MA Biotechnology                                             26\n",
       "Statistics                                                   26\n",
       "music education                                              26\n",
       "Theater                                                      26\n",
       "Financial Engineering                                        25\n",
       "Chemistry                                                    25\n",
       "Education Policy                                             25\n",
       "Counseling Psychology                                        25\n",
       "Public Administration                                        25\n",
       "electrical engineering                                       25\n",
       "education                                                    25\n",
       "Art Education                                                23\n",
       "biology                                                      23\n",
       "microbiology                                                 23\n",
       "Epidemiology                                                 22\n",
       "journalism                                                   22\n",
       "Organizational Psychology                                    22\n",
       "political science                                            22\n",
       "SIPA-International Affairs                                   21\n",
       "social work                                                  21\n",
       "Elementary Education                                         21\n",
       "Neurobiology                                                 19\n",
       "International Business                                       19\n",
       "International Politics                                       18\n",
       "Genetics & Development                                       18\n",
       "Intellectual Property Law                                    18\n",
       "Nutritiron                                                   18\n",
       "Electrical Engg.                                             18\n",
       "Biomedical engineering                                       18\n",
       "Philosophy                                                   18\n",
       "Nonfiction writing                                           17\n",
       "Acting                                                       17\n",
       "business school                                              17\n",
       "Business and International Affairs (MBA/MIA Dual Degree)     17\n",
       "Business- MBA                                                17\n",
       "ELECTRICAL ENGINEERING                                       17\n",
       "Business School                                              17\n",
       "physics                                                      17\n",
       "MBA Finance                                                  17\n",
       "LAW                                                          17\n",
       "french                                                       17\n",
       "Masters of Industrial Engineering                            17\n",
       "GS Postbacc PreMed                                           17\n",
       "Law and English Literature (J.D./Ph.D.)                      16\n",
       "Computational Biochemsistry                                  16\n",
       "Biomedical Informatics                                       16\n",
       "Masters in Public Administration                             16\n",
       "MBA / Master of International Affairs (SIPA)                 16\n",
       "General management/finance                                   16\n",
       "Climate Dynamics                                             16\n",
       "Public Health                                                16\n",
       "Biochemistry & Molecular Biophysics                          16\n",
       "MBA - Private Equity / Real Estate                           15\n",
       "Business, Media                                              15\n",
       "MFA -Film                                                    15\n",
       "Climate-Earth and Environ. Science                           15\n",
       "Higher Ed. - M.A.                                            15\n",
       "Theatre Management & Producing                               15\n",
       "Industrial Engineering                                       15\n",
       "Creative Writing - Nonfiction                                15\n",
       "biotechnology                                                15\n",
       "Finanace                                                     14\n",
       "Master in Public Administration                              14\n",
       "Social Work/SIPA                                             14\n",
       "QMSS                                                         14\n",
       "International Security Policy - SIPA                         14\n",
       "MA Science Education                                         14\n",
       "Writing: Literary Nonfiction                                 14\n",
       "Industrial Engineering/Operations Research                   14\n",
       "Modern Chinese Literature                                    14\n",
       "Art History                                                  14\n",
       "nutrition                                                    14\n",
       "Master of International Affairs                              14\n",
       "Mathematics, PhD                                             14\n",
       "International Affairs and Public Health                      14\n",
       "History (GSAS - PhD)                                         14\n",
       "Undergrad - GS                                               14\n",
       "Creative Writing                                             14\n",
       "Math                                                         14\n",
       "Molecular Biology                                            14\n",
       "Communications in Education                                  14\n",
       "medicine and biochemistry                                    14\n",
       "African-American Studies/History                             13\n",
       "biomedical engineering                                       13\n",
       "Philosophy and Physics                                       13\n",
       "Religion, GSAS                                               13\n",
       "Journalism                                                   13\n",
       "NonFiction Writing                                           13\n",
       "Neuroscience and Education                                   13\n",
       "GSAS                                                         13\n",
       "Ed.D. in higher education policy at TC                       13\n",
       "Speech Languahe Pathology                                    13\n",
       "financial math                                               13\n",
       "Nutrition/Genetics                                           13\n",
       "climate change                                               13\n",
       "Applied Physiology & Nutrition                               13\n",
       "Ecology                                                      13\n",
       "MFA Creative Writing                                         13\n",
       "Human Rights                                                 13\n",
       "Masters of Social Work                                       12\n",
       "Neurosciences/Stem cells                                     12\n",
       "Communications                                               12\n",
       "BUSINESS CONSULTING                                          12\n",
       "Cell Biology                                                 12\n",
       "Microbiology                                                 12\n",
       "biomedicine                                                  12\n",
       "Music Education                                              12\n",
       "Operations Research (SEAS)                                   12\n",
       "American Studies (Masters)                                   12\n",
       "Finance&Economics                                            12\n",
       "Business/ Finance/ Real Estate                               12\n",
       "TC (Health Ed)                                               12\n",
       "Marketing                                                    12\n",
       "Mathematical Finance                                         12\n",
       "International Affairs/Business                               12\n",
       "Creative Writing (Nonfiction)                                12\n",
       "Education Administration                                     12\n",
       "teaching of English                                          12\n",
       "Intrernational Affairs                                       12\n",
       "Religion                                                     12\n",
       "Anthropology/Education                                       12\n",
       "Comparative Literature                                       11\n",
       "Neuroscience                                                 11\n",
       "Finance/Economics                                            11\n",
       "genetics                                                     11\n",
       "International Educational Development                        11\n",
       "History of Religion                                          11\n",
       "speech pathology                                             11\n",
       "Speech Pathology                                             11\n",
       "Human Rights: Middle East                                    11\n",
       "working                                                      11\n",
       "math                                                         11\n",
       "medical informatics                                          11\n",
       "bilingual education                                          10\n",
       "Educational Psychology                                       10\n",
       "film                                                         10\n",
       "Social Studies Education                                     10\n",
       "physics (astrophysics)                                       10\n",
       "International Relations                                      10\n",
       "Business Administration                                      10\n",
       "Speech Language Pathology                                    10\n",
       "Elementary Education - Preservice                            10\n",
       "Biotechnology                                                10\n",
       "German Literature                                            10\n",
       "Cognitive Studies in Education                               10\n",
       "international affairs - economic development                  9\n",
       "anthropology                                                  9\n",
       "English and Comp Lit                                          9\n",
       "Applied Maths/Econs                                           9\n",
       "Arts Administration                                           9\n",
       "Economics, Sociology                                          9\n",
       "money                                                         9\n",
       "Education Leadership - Public School Administration           9\n",
       "Philosophy (Ph.D.)                                            9\n",
       "Elementary/Childhood Education (MA)                           9\n",
       "Medical Informatics                                           8\n",
       "Education- Literacy Specialist                                8\n",
       "Museum Anthropology                                           8\n",
       "Bilingual Education                                           8\n",
       "international finance and business                            8\n",
       "Curriculum and Teaching/Giftedness                            8\n",
       "TESOL                                                         8\n",
       "psychology and english                                        8\n",
       "SIPA - Energy                                                 8\n",
       "Law/Business                                                  8\n",
       "Nutrition                                                     8\n",
       "Social work                                                   8\n",
       "International Affairs - Economic Policy                       8\n",
       "art education                                                 8\n",
       "Art History/medicine                                          7\n",
       "Earth and Environmental Science                               7\n",
       "MA in Quantitative Methods                                    7\n",
       "Sociology and Education                                       7\n",
       "Japanese Literature                                           7\n",
       "MA Teaching Social Studies                                    7\n",
       "Masters of Social Work&Education                              7\n",
       "Anthropology                                                  7\n",
       "Public Policy                                                 7\n",
       "Environmental Engineering                                     7\n",
       "Business, marketing                                           7\n",
       "Conservation biology                                          7\n",
       "biochemistry/genetics                                         7\n",
       "Business/Law                                                  7\n",
       "English Education                                             7\n",
       "Economics and Political Science                               7\n",
       "Law and Social Work                                           7\n",
       "Health policy                                                 6\n",
       "International Finance, Economic Policy                        6\n",
       "biomedical informatics                                        6\n",
       "Sociomedical Sciences- School of Public Health                6\n",
       "Economics, English                                            6\n",
       "math education                                                6\n",
       "Consulting                                                    6\n",
       "International Development                                     6\n",
       "Architecture                                                  6\n",
       "Biology PhD                                                   5\n",
       "American Studies                                              5\n",
       "Instructional Media and Technology                            5\n",
       "philosophy                                                    5\n",
       "SIPA / MIA                                                    5\n",
       "Early Childhood Education                                     5\n",
       "Business & International Affairs                              5\n",
       "math of finance                                               5\n",
       "Polish                                                        5\n",
       "elementary education                                          5\n",
       "international affairs/international finance                   5\n",
       "SOA -- writing                                                5\n",
       "art history                                                   4\n",
       "MFA Writing                                                   4\n",
       "International Affairs/Finance                                 4\n",
       "Fundraising Management                                        4\n",
       "marine geophysics                                             4\n",
       "MFA  Poetry                                                   3\n",
       "Stats                                                         3\n",
       "theory                                                        3\n",
       "epidemiology                                                  3\n",
       "Business (Finance & Marketing)                                3\n",
       "Instructional Tech & Media                                    3\n",
       "Name: field, dtype: int64"
      ]
     },
     "execution_count": 10,
     "metadata": {},
     "output_type": "execute_result"
    }
   ],
   "source": [
    "train_df2['field'].value_counts()"
   ]
  },
  {
   "cell_type": "markdown",
   "metadata": {},
   "source": [
    "## visualizing the data"
   ]
  },
  {
   "cell_type": "code",
   "execution_count": 10,
   "metadata": {
    "execution": {
     "iopub.execute_input": "2023-04-01T23:05:40.875993Z",
     "iopub.status.busy": "2023-04-01T23:05:40.875003Z",
     "iopub.status.idle": "2023-04-01T23:05:41.235511Z",
     "shell.execute_reply": "2023-04-01T23:05:41.234314Z",
     "shell.execute_reply.started": "2023-04-01T23:05:40.875940Z"
    }
   },
   "outputs": [
    {
     "data": {
      "text/plain": [
       "<AxesSubplot:xlabel='match', ylabel='Count'>"
      ]
     },
     "execution_count": 10,
     "metadata": {},
     "output_type": "execute_result"
    },
    {
     "data": {
      "image/png": "[encoded data removed]",
      "text/plain": [
       "<Figure size 640x480 with 1 Axes>"
      ]
     },
     "metadata": {},
     "output_type": "display_data"
    }
   ],
   "source": [
    "## creating a histogram for taregt column [match] \n",
    "sns.histplot(data=train_df2, x='match' )"
   ]
  },
  {
   "cell_type": "markdown",
   "metadata": {},
   "source": [
    "* from above it's abvious that there is imbalance in target column"
   ]
  },
  {
   "cell_type": "code",
   "execution_count": 11,
   "metadata": {
    "execution": {
     "iopub.execute_input": "2023-04-01T23:05:44.488168Z",
     "iopub.status.busy": "2023-04-01T23:05:44.487682Z",
     "iopub.status.idle": "2023-04-01T23:05:44.849573Z",
     "shell.execute_reply": "2023-04-01T23:05:44.848409Z",
     "shell.execute_reply.started": "2023-04-01T23:05:44.488126Z"
    }
   },
   "outputs": [
    {
     "data": {
      "text/plain": [
       "<AxesSubplot:xlabel='position', ylabel='Count'>"
      ]
     },
     "execution_count": 11,
     "metadata": {},
     "output_type": "execute_result"
    },
    {
     "data": {
      "image/png": "[encoded data removed]",
      "text/plain": [
       "<Figure size 640x480 with 1 Axes>"
      ]
     },
     "metadata": {},
     "output_type": "display_data"
    }
   ],
   "source": [
    "#position column histogram\n",
    "sns.histplot(data=train_df2,x='position', bins=25)"
   ]
  },
  {
   "cell_type": "markdown",
   "metadata": {},
   "source": [
    "### converting the Object type as category"
   ]
  },
  {
   "cell_type": "code",
   "execution_count": 7,
   "metadata": {
    "execution": {
     "iopub.execute_input": "2023-04-01T23:05:48.257590Z",
     "iopub.status.busy": "2023-04-01T23:05:48.257187Z",
     "iopub.status.idle": "2023-04-01T23:05:48.287686Z",
     "shell.execute_reply": "2023-04-01T23:05:48.286401Z",
     "shell.execute_reply.started": "2023-04-01T23:05:48.257558Z"
    }
   },
   "outputs": [],
   "source": [
    "train_df2[train_df2.select_dtypes(['object']).columns] = train_df2.select_dtypes(['object']).apply(lambda x: x.astype('category'))"
   ]
  },
  {
   "cell_type": "code",
   "execution_count": 8,
   "metadata": {
    "execution": {
     "iopub.execute_input": "2023-04-01T23:05:51.422191Z",
     "iopub.status.busy": "2023-04-01T23:05:51.420854Z",
     "iopub.status.idle": "2023-04-01T23:05:51.447094Z",
     "shell.execute_reply": "2023-04-01T23:05:51.445774Z",
     "shell.execute_reply.started": "2023-04-01T23:05:51.422137Z"
    }
   },
   "outputs": [
    {
     "name": "stdout",
     "output_type": "stream",
     "text": [
      "<class 'pandas.core.frame.DataFrame'>\n",
      "RangeIndex: 5909 entries, 0 to 5908\n",
      "Columns: 192 entries, gender to id\n",
      "dtypes: category(8), float64(173), int64(11)\n",
      "memory usage: 8.5 MB\n"
     ]
    }
   ],
   "source": [
    "train_df2.info()"
   ]
  },
  {
   "cell_type": "markdown",
   "metadata": {},
   "source": [
    "## splitting the data"
   ]
  },
  {
   "cell_type": "code",
   "execution_count": 9,
   "metadata": {
    "execution": {
     "iopub.execute_input": "2023-04-01T23:05:54.129305Z",
     "iopub.status.busy": "2023-04-01T23:05:54.128837Z",
     "iopub.status.idle": "2023-04-01T23:05:54.142020Z",
     "shell.execute_reply": "2023-04-01T23:05:54.141059Z",
     "shell.execute_reply.started": "2023-04-01T23:05:54.129262Z"
    }
   },
   "outputs": [
    {
     "name": "stdout",
     "output_type": "stream",
     "text": [
      "shape before any preprocessing (5909, 190) (5909,)\n"
     ]
    }
   ],
   "source": [
    "## splitting the data into X [features] Y [labels]\n",
    "y = train_df2['match'] \n",
    "X = train_df2.drop(['match', 'id'], axis=1)\n",
    "print('shape before any preprocessing', X.shape, y.shape)"
   ]
  },
  {
   "cell_type": "code",
   "execution_count": 10,
   "metadata": {
    "execution": {
     "iopub.execute_input": "2023-04-01T23:06:01.085876Z",
     "iopub.status.busy": "2023-04-01T23:06:01.085438Z",
     "iopub.status.idle": "2023-04-01T23:06:01.101590Z",
     "shell.execute_reply": "2023-04-01T23:06:01.100522Z",
     "shell.execute_reply.started": "2023-04-01T23:06:01.085837Z"
    }
   },
   "outputs": [
    {
     "name": "stdout",
     "output_type": "stream",
     "text": [
      "numeric features: \n",
      " ['gender', 'idg', 'condtn', 'wave', 'round', 'position', 'positin1', 'order', 'partner', 'pid', 'int_corr', 'samerace', 'age_o', 'race_o', 'pf_o_att', 'pf_o_sin', 'pf_o_int', 'pf_o_fun', 'pf_o_amb', 'pf_o_sha', 'attr_o', 'sinc_o', 'intel_o', 'fun_o', 'amb_o', 'shar_o', 'like_o', 'prob_o', 'met_o', 'age', 'field_cd', 'race', 'imprace', 'imprelig', 'goal', 'date', 'go_out', 'career_c', 'sports', 'tvsports', 'exercise', 'dining', 'museums', 'art', 'hiking', 'gaming', 'clubbing', 'reading', 'tv', 'theater', 'movies', 'concerts', 'music', 'shopping', 'yoga', 'exphappy', 'expnum', 'attr1_1', 'sinc1_1', 'intel1_1', 'fun1_1', 'amb1_1', 'shar1_1', 'attr4_1', 'sinc4_1', 'intel4_1', 'fun4_1', 'amb4_1', 'shar4_1', 'attr2_1', 'sinc2_1', 'intel2_1', 'fun2_1', 'amb2_1', 'shar2_1', 'attr3_1', 'sinc3_1', 'fun3_1', 'intel3_1', 'amb3_1', 'attr5_1', 'sinc5_1', 'intel5_1', 'fun5_1', 'amb5_1', 'attr', 'sinc', 'intel', 'fun', 'amb', 'shar', 'like', 'prob', 'met', 'match_es', 'attr1_s', 'sinc1_s', 'intel1_s', 'fun1_s', 'amb1_s', 'shar1_s', 'attr3_s', 'sinc3_s', 'intel3_s', 'fun3_s', 'amb3_s', 'satis_2', 'length', 'numdat_2', 'attr7_2', 'sinc7_2', 'intel7_2', 'fun7_2', 'amb7_2', 'shar7_2', 'attr1_2', 'sinc1_2', 'intel1_2', 'fun1_2', 'amb1_2', 'shar1_2', 'attr4_2', 'sinc4_2', 'intel4_2', 'fun4_2', 'amb4_2', 'shar4_2', 'attr2_2', 'sinc2_2', 'intel2_2', 'fun2_2', 'amb2_2', 'shar2_2', 'attr3_2', 'sinc3_2', 'intel3_2', 'fun3_2', 'amb3_2', 'attr5_2', 'sinc5_2', 'intel5_2', 'fun5_2', 'amb5_2', 'you_call', 'them_cal', 'date_3', 'numdat_3', 'num_in_3', 'attr1_3', 'sinc1_3', 'intel1_3', 'fun1_3', 'amb1_3', 'shar1_3', 'attr7_3', 'sinc7_3', 'intel7_3', 'fun7_3', 'amb7_3', 'shar7_3', 'attr4_3', 'sinc4_3', 'intel4_3', 'fun4_3', 'amb4_3', 'shar4_3', 'attr2_3', 'sinc2_3', 'intel2_3', 'fun2_3', 'amb2_3', 'shar2_3', 'attr3_3', 'sinc3_3', 'intel3_3', 'fun3_3', 'amb3_3', 'attr5_3', 'sinc5_3', 'intel5_3', 'fun5_3', 'amb5_3']\n",
      "categorical features: \n",
      " ['field', 'undergra', 'mn_sat', 'tuition', 'from', 'zipcode', 'income', 'career']\n"
     ]
    }
   ],
   "source": [
    "# extracting numeric features and categorical features names\n",
    "\n",
    "# numeric features \n",
    "features_numeric = list(X.select_dtypes(include=['float64', 'int64']))\n",
    "\n",
    "# categorical features \n",
    "features_categorical = list(X.select_dtypes(include=['category']))\n",
    "\n",
    "print('numeric features: \\n', features_numeric)\n",
    "print('categorical features: \\n', features_categorical)"
   ]
  },
  {
   "cell_type": "code",
   "execution_count": 11,
   "metadata": {
    "execution": {
     "iopub.execute_input": "2023-04-01T23:06:04.195023Z",
     "iopub.status.busy": "2023-04-01T23:06:04.194022Z",
     "iopub.status.idle": "2023-04-01T23:06:04.201937Z",
     "shell.execute_reply": "2023-04-01T23:06:04.200598Z",
     "shell.execute_reply.started": "2023-04-01T23:06:04.194981Z"
    }
   },
   "outputs": [],
   "source": [
    "np.random.seed(42)\n",
    "\n",
    "# define a pipeline for numeric feature preprocessing\n",
    "transformer_numeric = Pipeline(\n",
    "    steps=[\n",
    "        ('imputer', SimpleImputer()),\n",
    "        ('scaler', StandardScaler())]\n",
    ")\n",
    "\n",
    "# define a pipeline for categorical feature preprocessing\n",
    "transformer_categorical = Pipeline(\n",
    "    steps=[\n",
    "        ('imputer', SimpleImputer(strategy='constant')),\n",
    "        ('onehot', OneHotEncoder(handle_unknown='ignore'))\n",
    "    ]\n",
    ")\n",
    "\n",
    "\n",
    "# define the preprocessor \n",
    "# we also specify what are the categorical \n",
    "preprocessor = ColumnTransformer(\n",
    "    transformers=[\n",
    "        ('num', transformer_numeric, features_numeric),\n",
    "        ('cat', transformer_categorical, features_categorical)\n",
    "    ]\n",
    ")"
   ]
  },
  {
   "cell_type": "markdown",
   "metadata": {},
   "source": [
    "## Saving Prediction Result"
   ]
  },
  {
   "cell_type": "code",
   "execution_count": 12,
   "metadata": {
    "execution": {
     "iopub.execute_input": "2023-04-01T23:06:09.511639Z",
     "iopub.status.busy": "2023-04-01T23:06:09.511203Z",
     "iopub.status.idle": "2023-04-01T23:06:09.518994Z",
     "shell.execute_reply": "2023-04-01T23:06:09.517665Z",
     "shell.execute_reply.started": "2023-04-01T23:06:09.511599Z"
    }
   },
   "outputs": [],
   "source": [
    "# define function to save the csv file of the result after each trial\n",
    "def result_to_csv(test, classifier, fileName):\n",
    "  submission = pd.DataFrame()\n",
    "\n",
    "  submission['id'] = test['id']\n",
    "\n",
    "  submission['match'] = classifier.predict_proba(test.drop(columns=['id']))[:,1]\n",
    "\n",
    "  submission.to_csv(fileName, index=False)"
   ]
  },
  {
   "cell_type": "markdown",
   "metadata": {},
   "source": [
    "## Tuning Pipeline\n"
   ]
  },
  {
   "cell_type": "markdown",
   "metadata": {},
   "source": [
    "## RandomForestClassifier Pipeline with GridSearchCV\n",
    "### observations for trial 0, plan for trial 1:\n",
    "\n",
    "\n",
    "To find the best hyperparameters that provide the best accuracy, I used RandomForestClassifier through the pipeline that contained the classifier and the preprocessor object built in the preprocessing step with GridSearchCV function.\n",
    "\n",
    "\n",
    "the trial's hyperparameters included:\n",
    "\n",
    "* \"imputer__strategy\": [\"mean\"] => strategy for filling in the missing data\n",
    "* The depth limit is [10, 20, 30, 40, 50].\n",
    "\n",
    "I predicted obtaining the ideal hyperparameter that would generate the best accuracy across all combinations, hit the global optimal, and fall within the given range."
   ]
  },
  {
   "cell_type": "code",
   "execution_count": 17,
   "metadata": {
    "execution": {
     "iopub.execute_input": "2023-04-01T23:06:17.290940Z",
     "iopub.status.busy": "2023-04-01T23:06:17.290507Z",
     "iopub.status.idle": "2023-04-01T23:06:17.297167Z",
     "shell.execute_reply": "2023-04-01T23:06:17.296116Z",
     "shell.execute_reply.started": "2023-04-01T23:06:17.290904Z"
    }
   },
   "outputs": [],
   "source": [
    "#***Combine the preprocessing steps with a classifier***\n",
    "#To Apply these steps in X_train and y_train \n",
    "\n",
    "#Random Forest Classifier\n",
    "full_pipeline_RFC = Pipeline(\n",
    "    steps = [\n",
    "             ('preprocessing', preprocessor),\n",
    "              ('my_classifier', RandomForestClassifier(),)\n",
    "    ]\n",
    ")"
   ]
  },
  {
   "cell_type": "code",
   "execution_count": 18,
   "metadata": {
    "execution": {
     "iopub.execute_input": "2023-04-01T23:06:20.529375Z",
     "iopub.status.busy": "2023-04-01T23:06:20.528947Z",
     "iopub.status.idle": "2023-04-01T23:06:26.747280Z",
     "shell.execute_reply": "2023-04-01T23:06:26.746277Z",
     "shell.execute_reply.started": "2023-04-01T23:06:20.529338Z"
    }
   },
   "outputs": [],
   "source": [
    "# fitting the pipeline\n",
    "# The pipeline object can be used like any sk-learn model  \n",
    "full_pipline = full_pipeline_RFC.fit(X, y)"
   ]
  },
  {
   "cell_type": "code",
   "execution_count": 19,
   "metadata": {
    "execution": {
     "iopub.execute_input": "2023-04-01T23:06:29.602066Z",
     "iopub.status.busy": "2023-04-01T23:06:29.601637Z"
    }
   },
   "outputs": [
    {
     "name": "stdout",
     "output_type": "stream",
     "text": [
      "Fitting 5 folds for each of 25 candidates, totalling 125 fits\n",
      "best score 0.8448131995919237\n",
      "best score {'my_classifier__max_depth': 10, 'my_classifier__n_estimators': 60, 'preprocessing__num__imputer__strategy': 'mean'}\n"
     ]
    }
   ],
   "source": [
    "#Search about the best values of hyperparameters\n",
    "\n",
    "param_grid = {\n",
    "    'preprocessing__num__imputer__strategy': ['mean'],\n",
    "    'my_classifier__n_estimators': [20, 30, 40, 50, 60],  \n",
    "    'my_classifier__max_depth':[10, 20, 30, 40, 50]       \n",
    "}\n",
    "\n",
    "\n",
    "grid_search = GridSearchCV(\n",
    "    full_pipeline_RFC, param_grid, cv=5, verbose=1, n_jobs=2, \n",
    "    scoring='roc_auc')\n",
    "\n",
    "#fit the model after getting the optimal hyperparameters values\n",
    "grid_search.fit(X, y)\n",
    "\n",
    "print('best score {}'.format(grid_search.best_score_))\n",
    "print('best score {}'.format(grid_search.best_params_))\n",
    "     "
   ]
  },
  {
   "cell_type": "code",
   "execution_count": null,
   "metadata": {},
   "outputs": [],
   "source": [
    "# call result_to_csv function \n",
    "result_to_csv(test_df, grid_search, 'RandomForestClassifier_Pipeline_with_GridSearchCV.csv')"
   ]
  },
  {
   "cell_type": "markdown",
   "metadata": {},
   "source": [
    "## GradientBoostingClassifier Pipeline with GridSearchCV\n",
    "### thoughts and observations for trial 1, plan for trial 2:\n",
    "\n",
    "\n",
    "To find the optimum hyperparameters that provide the best accuracy, I used GradientBoostingClassifier through the pipeline that contained the classifier and the preprocessor object built in the preprocessing step with GridSearchCV function.\n",
    "\n",
    "\n",
    "the trial's hyperparameters included:\n",
    "\n",
    "* \"imputer__strategy\": [\"mean\" and \"median\"] = filling in the missing data strategy\n",
    "* \"n_estimators\": [150, 350, 550, 750]\n",
    "* \"max_depth\": [5, 7, 9]\n",
    "*  The learning rate is [0.001, 0.01, 0.1].\n",
    "\n",
    "I predicted obtaining the ideal hyperparameter that would generate the best accuracy across all combinations, hit the global optimal, and fall within the given range.\n",
    "\n",
    "\n",
    "Additionally, I expected greater accuracy compared to the earlier trial."
   ]
  },
  {
   "cell_type": "code",
   "execution_count": 13,
   "metadata": {},
   "outputs": [],
   "source": [
    "full_pipline = Pipeline(\n",
    "    steps=[\n",
    "        ('preprocessor', preprocessor),\n",
    "        ('my_classifier', \n",
    "           GradientBoostingClassifier(),\n",
    "        )\n",
    "    ]\n",
    ")\n",
    "     "
   ]
  },
  {
   "cell_type": "code",
   "execution_count": 14,
   "metadata": {
    "execution": {
     "iopub.execute_input": "2023-03-29T01:10:37.890311Z",
     "iopub.status.busy": "2023-03-29T01:10:37.889913Z",
     "iopub.status.idle": "2023-03-29T01:10:52.771041Z",
     "shell.execute_reply": "2023-03-29T01:10:52.769789Z",
     "shell.execute_reply.started": "2023-03-29T01:10:37.890278Z"
    }
   },
   "outputs": [],
   "source": [
    "# fitting the pipeline \n",
    "full_pipline = full_pipline.fit(X, y)"
   ]
  },
  {
   "cell_type": "code",
   "execution_count": 15,
   "metadata": {},
   "outputs": [
    {
     "name": "stdout",
     "output_type": "stream",
     "text": [
      "Fitting 3 folds for each of 36 candidates, totalling 108 fits\n",
      "best score 0.8732935129987718\n",
      "best score {'my_classifier__learning_rate': 0.01, 'my_classifier__max_depth': 5, 'my_classifier__n_estimators': 750, 'preprocessor__num__imputer__strategy': 'mean'}\n"
     ]
    }
   ],
   "source": [
    "\n",
    "# specifying the search space (hyperparameters)\n",
    "param_grid = {\n",
    "    'preprocessor__num__imputer__strategy': ['mean'],\n",
    "    'my_classifier__n_estimators': [150, 350, 550, 750],  \n",
    "    'my_classifier__max_depth': [ 5, 7, 9],\n",
    "    'my_classifier__learning_rate': [0.001, 0.01, 0.1]       \n",
    "}\n",
    "\n",
    "# three-fold cross-validation\n",
    "grid_search = GridSearchCV(\n",
    "    full_pipline, param_grid, cv=3, verbose=1, n_jobs=-1, \n",
    "    scoring='roc_auc')\n",
    "\n",
    "grid_search.fit(X, y)\n",
    "\n",
    "print('best score {}'.format(grid_search.best_score_))\n",
    "print('best score {}'.format(grid_search.best_params_))\n",
    "     "
   ]
  },
  {
   "cell_type": "markdown",
   "metadata": {},
   "source": [
    "## XGB classifer with Random search\n",
    "\n",
    "To find the optimum hyperparameters that provide the best accuracy, I used GradientBoostingClassifier through the pipeline that contained the classifier and the preprocessor object built in the preprocessing step with GridSearchCV function.\n",
    "\n",
    "thoughts and observations for trial 2, plan for trial 3:\n",
    "\n",
    "\n",
    "To obtain the best random hyperparameters among all possible hyperparameter combinations within the set number of iterations, I used XGBClassifier through the pipeline that contained the classifier and the preprocessor object built in the preprocessing stage with RandomizedSearchCV function.\n",
    "\n",
    "the trial's hyperparameters included:\n",
    "\n",
    "* 'imputer__strategy': ['mean','median','most_frequent'] \n",
    "* 'n_estimators': [50, 100, 200] \n",
    "*  Maximum depth is [2, 7, 10].\n",
    "\n",
    "I predicted a lesser level of accuracy in comparison to GridSearchCV with the same classifier. but the oppsite occurs\n",
    "\n",
    "\n",
    "Additionally, I predicted that among the randomly chosen combinations, the hyperparameters that generate the better accuracy and reach the *local optimal*"
   ]
  },
  {
   "cell_type": "code",
   "execution_count": 16,
   "metadata": {
    "execution": {
     "iopub.execute_input": "2023-03-28T23:35:46.438233Z",
     "iopub.status.busy": "2023-03-28T23:35:46.437719Z",
     "iopub.status.idle": "2023-03-28T23:35:46.445661Z",
     "shell.execute_reply": "2023-03-28T23:35:46.444012Z",
     "shell.execute_reply.started": "2023-03-28T23:35:46.438187Z"
    }
   },
   "outputs": [],
   "source": [
    "# combine the preprocessor with the model as a full tunable pipeline\n",
    "full_pipline = Pipeline(\n",
    "    steps=[\n",
    "        ('preprocessor', preprocessor),\n",
    "        ('my_classifier', \n",
    "           XGBClassifier(),\n",
    "        )\n",
    "    ]\n",
    ")"
   ]
  },
  {
   "cell_type": "code",
   "execution_count": 17,
   "metadata": {
    "execution": {
     "iopub.execute_input": "2023-03-28T23:36:03.758983Z",
     "iopub.status.busy": "2023-03-28T23:36:03.758449Z",
     "iopub.status.idle": "2023-03-28T23:36:07.397631Z",
     "shell.execute_reply": "2023-03-28T23:36:07.396489Z",
     "shell.execute_reply.started": "2023-03-28T23:36:03.758923Z"
    }
   },
   "outputs": [],
   "source": [
    "# fitting the pipeline\n",
    "# The pipeline object can be used like any sk-learn model  \n",
    "full_pipline = full_pipline.fit(X, y)"
   ]
  },
  {
   "cell_type": "code",
   "execution_count": 18,
   "metadata": {
    "execution": {
     "iopub.execute_input": "2023-03-28T23:36:22.758496Z",
     "iopub.status.busy": "2023-03-28T23:36:22.757679Z",
     "iopub.status.idle": "2023-03-28T23:42:05.390924Z",
     "shell.execute_reply": "2023-03-28T23:42:05.389232Z",
     "shell.execute_reply.started": "2023-03-28T23:36:22.758452Z"
    }
   },
   "outputs": [
    {
     "name": "stdout",
     "output_type": "stream",
     "text": [
      "Fitting 5 folds for each of 20 candidates, totalling 100 fits\n",
      "best score 0.8803020981801802\n",
      "best score {'preprocessor__num__imputer__strategy': 'mean', 'my_classifier__n_estimators': 200, 'my_classifier__max_depth': 7}\n"
     ]
    }
   ],
   "source": [
    "\n",
    "# specifying the search space (hyperparameters)\n",
    "param_grid = {\n",
    "    'preprocessor__num__imputer__strategy': ['mean', 'median', 'most_frequent'],\n",
    "    'my_classifier__n_estimators': [50, 100, 200],  \n",
    "    'my_classifier__max_depth':[2, 7, 10]       \n",
    "}\n",
    "\n",
    "# five-fold cross-validation\n",
    "grid_search = RandomizedSearchCV(\n",
    "    full_pipline, param_grid, cv=5, verbose=1, n_jobs=-1, \n",
    "    # number of random trials\n",
    "    n_iter=20,\n",
    "    scoring='roc_auc')\n",
    "\n",
    "grid_search.fit(X, y)\n",
    "\n",
    "print('best score {}'.format(grid_search.best_score_))\n",
    "print('best score {}'.format(grid_search.best_params_))\n",
    "     "
   ]
  },
  {
   "cell_type": "code",
   "execution_count": 19,
   "metadata": {
    "execution": {
     "iopub.execute_input": "2023-03-28T23:44:00.276861Z",
     "iopub.status.busy": "2023-03-28T23:44:00.276422Z",
     "iopub.status.idle": "2023-03-28T23:44:00.381447Z",
     "shell.execute_reply": "2023-03-28T23:44:00.380230Z",
     "shell.execute_reply.started": "2023-03-28T23:44:00.276823Z"
    }
   },
   "outputs": [],
   "source": [
    "# call Result_to_csv \n",
    "result_to_csv(test_df, grid_search, 'XGBClassifier_Pipeline_RandomSearchCV.csv')"
   ]
  },
  {
   "cell_type": "markdown",
   "metadata": {},
   "source": [
    "## XGBClassifier Pipeline with GridSearchCV\n",
    "\n",
    "thoughts and observations for trial 3, plan for trial 4:\n",
    "\n",
    "To find the optimum hyperparameters that provide the best accuracy, I used XGBClassifier through the pipeline that includes the classifier and the preprocessor object built in the preprocessing step with GridSearchCV function.\n",
    "\n",
    "\n",
    "the trial's hyperparameters included:\n",
    "\n",
    "* 'imputer__strategy': ['mean'','most_frequent']\n",
    "* 'n_estimators': [50, 100, 200] \n",
    "* Maximum depth is [2, 7, 10].\n",
    "\n",
    "I predicted obtaining the ideal hyperparameter that would generate the best accuracy across all combinations, hit the global optimal, and fall within the given range.\n"
   ]
  },
  {
   "cell_type": "code",
   "execution_count": 20,
   "metadata": {
    "execution": {
     "iopub.execute_input": "2023-03-30T01:00:26.846889Z",
     "iopub.status.busy": "2023-03-30T01:00:26.846445Z",
     "iopub.status.idle": "2023-03-30T01:00:26.853382Z",
     "shell.execute_reply": "2023-03-30T01:00:26.851847Z",
     "shell.execute_reply.started": "2023-03-30T01:00:26.846849Z"
    }
   },
   "outputs": [],
   "source": [
    "\n",
    "# combine the preprocessor with the model as a full tunable pipeline\n",
    "full_pipline = Pipeline(\n",
    "    steps=[\n",
    "        ('preprocessor', preprocessor),\n",
    "        ('my_classifier', \n",
    "           XGBClassifier(),\n",
    "        )\n",
    "    ]\n",
    ")"
   ]
  },
  {
   "cell_type": "code",
   "execution_count": 21,
   "metadata": {
    "execution": {
     "iopub.execute_input": "2023-03-30T01:01:44.105663Z",
     "iopub.status.busy": "2023-03-30T01:01:44.105241Z",
     "iopub.status.idle": "2023-03-30T01:01:47.748140Z",
     "shell.execute_reply": "2023-03-30T01:01:47.747096Z",
     "shell.execute_reply.started": "2023-03-30T01:01:44.105628Z"
    }
   },
   "outputs": [],
   "source": [
    "# fitting the pipeline\n",
    "full_pipline = full_pipline.fit(X, y)"
   ]
  },
  {
   "cell_type": "code",
   "execution_count": 22,
   "metadata": {
    "execution": {
     "iopub.execute_input": "2023-03-30T01:01:52.207684Z",
     "iopub.status.busy": "2023-03-30T01:01:52.207217Z",
     "iopub.status.idle": "2023-03-30T01:05:01.969318Z",
     "shell.execute_reply": "2023-03-30T01:05:01.968043Z",
     "shell.execute_reply.started": "2023-03-30T01:01:52.207639Z"
    }
   },
   "outputs": [
    {
     "name": "stdout",
     "output_type": "stream",
     "text": [
      "Fitting 4 folds for each of 18 candidates, totalling 72 fits\n",
      "best score 0.8758749282166848\n",
      "best score {'my_classifier__max_depth': 10, 'my_classifier__n_estimators': 200, 'preprocessor__num__imputer__strategy': 'mean'}\n"
     ]
    }
   ],
   "source": [
    "\n",
    "\n",
    "# specifying the search space (hyperparameters)\n",
    "param_grid = {\n",
    "    'preprocessor__num__imputer__strategy': ['mean', 'most_frequent'],\n",
    "    'my_classifier__n_estimators': [50, 100, 200],  \n",
    "    'my_classifier__max_depth':[2, 5, 10]       \n",
    "}\n",
    "\n",
    "# four-fold cross-validation\n",
    "grid_search = GridSearchCV(\n",
    "    full_pipline, param_grid, cv=4, verbose=1, n_jobs=2, \n",
    "    scoring='roc_auc')\n",
    "\n",
    "grid_search.fit(X, y)\n",
    "\n",
    "print('best score {}'.format(grid_search.best_score_))\n",
    "print('best score {}'.format(grid_search.best_params_))"
   ]
  },
  {
   "cell_type": "code",
   "execution_count": 23,
   "metadata": {
    "execution": {
     "iopub.execute_input": "2023-03-30T01:05:06.268703Z",
     "iopub.status.busy": "2023-03-30T01:05:06.268236Z",
     "iopub.status.idle": "2023-03-30T01:05:06.372688Z",
     "shell.execute_reply": "2023-03-30T01:05:06.371659Z",
     "shell.execute_reply.started": "2023-03-30T01:05:06.268653Z"
    }
   },
   "outputs": [],
   "source": [
    "result_to_csv(test_df, grid_search, 'XGBClassifier_Pipeline_Gridserah.csv')"
   ]
  },
  {
   "cell_type": "markdown",
   "metadata": {},
   "source": [
    "## SVM Pipeline with Random SearchCV\n",
    "\n",
    "thoughts and observations for trial 4, plan for trial 5:\n",
    "To obtain the best random hyperparameters out of all the possible hyperparameter combinations within the set number of iterations, I used SVM Classifier through a pipeline that contained the classifier and the preprocessor object built in the preprocessing step with the RandomizedSearchCV function.\n",
    "\n",
    "\n",
    "the trial's hyperparameters included:\n",
    "\n",
    "* Imputer__Strategy: [\"mean,\" \"median,\" and \"most_frequent\"]\n",
    "* Kernel: [\"linear,\" \"rbf,\" \"poly,\"]\n",
    "* 'C': [0.001, 0.01, 0.1, 1, 10, 100, 200],\n",
    "* 'gamma': [0.1, 0.5, 0.7, 1],\n",
    "* degree: [1, 2, 3, 4, 5]\n",
    "\n",
    "I expected that among the randomly chosen combinations, the hyperparameters that yield the higher accuracy and approach the local ideal (within the given range) would be used."
   ]
  },
  {
   "cell_type": "code",
   "execution_count": 24,
   "metadata": {},
   "outputs": [],
   "source": [
    "# combine the preprocessor with the model as a full tunable pipeline\n",
    "full_pipline = Pipeline(\n",
    "    steps=[\n",
    "        ('preprocessor', preprocessor),\n",
    "        ('my_classifier', \n",
    "           SVC(probability=True, class_weight='balanced'),\n",
    "        )\n",
    "    ]\n",
    ")"
   ]
  },
  {
   "cell_type": "code",
   "execution_count": 25,
   "metadata": {},
   "outputs": [],
   "source": [
    "\n",
    "# fitting the pipeline\n",
    "\n",
    "full_pipline = full_pipline.fit(X, y)"
   ]
  },
  {
   "cell_type": "code",
   "execution_count": 26,
   "metadata": {},
   "outputs": [
    {
     "name": "stdout",
     "output_type": "stream",
     "text": [
      "Fitting 5 folds for each of 20 candidates, totalling 100 fits\n",
      "best score 0.864821674974484\n",
      "best score {'preprocessor__num__imputer__strategy': 'median', 'my_classifier__kernel': 'poly', 'my_classifier__gamma': 0.1, 'my_classifier__degree': 1, 'my_classifier__C': 0.1}\n"
     ]
    }
   ],
   "source": [
    "\n",
    "# specifying the search space (hyperparameters)\n",
    "param = {\n",
    "    'preprocessor__num__imputer__strategy': ['mean', 'median', 'most_frequent'],\n",
    "    'my_classifier__kernel': ['linear', 'rbf', 'poly'],\n",
    "    'my_classifier__C': [0.001, 0.01, 0.1, 1, 10, 100, 200],\n",
    "    'my_classifier__gamma': [0.1, 0.5, 0.7, 1],\n",
    "    'my_classifier__degree': [1, 2, 3, 4, 5]       \n",
    "}\n",
    "\n",
    "# five-fold cross-validation\n",
    "grid_search = RandomizedSearchCV(\n",
    "    full_pipline, param, cv=5, verbose=1, n_jobs=2, \n",
    "    # number of random trials\n",
    "    n_iter=20,\n",
    "    scoring='roc_auc')\n",
    "\n",
    "grid_search.fit(X, y)\n",
    "\n",
    "print('best score {}'.format(grid_search.best_score_))\n",
    "print('best score {}'.format(grid_search.best_params_))"
   ]
  },
  {
   "cell_type": "code",
   "execution_count": 28,
   "metadata": {},
   "outputs": [],
   "source": [
    "\n",
    "# save the predicted result to csv file\n",
    "result_to_csv(test_df, grid_search, 'SVC_Pipeline_with_RandomSearchCV.csv')"
   ]
  },
  {
   "cell_type": "markdown",
   "metadata": {},
   "source": [
    "## SVM Pipeline with BayesSearch\n",
    "\n",
    "thoughts and observations for trial 5, plan for trial 6:\n",
    "\n",
    "To find the best hyperparameters among the specified number of iterations based on using bayesian learning to predict what is the next hyperparamter values we should try given the current trials, I used SVM Classifier through the pipeline that contains the classifier and the preprocessor object created in the preprocessing step with BayesSearchCV function.\n",
    "\n",
    "\n",
    "the trial's hyperparameters included:\n",
    "\n",
    "* Imputer__Strategy: [\"mean,\" \"median,\" and \"most_frequent\"] \n",
    "* Kernel: [\"linear,\" \"rbf,\" \"poly,\"]\n",
    "* 'C': [0.001, 0.01, 0.1, 1, 10, 100, 200],\n",
    "* 'gamma': [0.1, 0.5, 0.7, 1]\n",
    "*  degree: [1, 2, 3, 4, 5]\n",
    "\n",
    "I predicted obtaining an additional degree of accuracy compared to RandomizedSearchCV with the same classifier.\n",
    "\n",
    "\n",
    "Additionally, I predicted that the hyperparameters would provide the better accuracy among the generated combinations and approach the *local optimal* (within the given range).\n"
   ]
  },
  {
   "cell_type": "code",
   "execution_count": 29,
   "metadata": {},
   "outputs": [],
   "source": [
    "# combine the preprocessor with the model as a full tunable pipeline\n",
    "full_pipline = Pipeline(\n",
    "    steps=[\n",
    "        ('preprocessor', preprocessor),\n",
    "        ('my_classifier', \n",
    "           SVC(probability=True, class_weight='balanced'),\n",
    "        )\n",
    "    ]\n",
    ")"
   ]
  },
  {
   "cell_type": "code",
   "execution_count": 30,
   "metadata": {},
   "outputs": [],
   "source": [
    "# fitting the pipeline \n",
    "full_pipline = full_pipline.fit(X, y)"
   ]
  },
  {
   "cell_type": "code",
   "execution_count": 31,
   "metadata": {
    "scrolled": true
   },
   "outputs": [
    {
     "name": "stdout",
     "output_type": "stream",
     "text": [
      "Fitting 3 folds for each of 1 candidates, totalling 3 fits\n",
      "Fitting 3 folds for each of 1 candidates, totalling 3 fits\n",
      "Fitting 3 folds for each of 1 candidates, totalling 3 fits\n",
      "Fitting 3 folds for each of 1 candidates, totalling 3 fits\n",
      "Fitting 3 folds for each of 1 candidates, totalling 3 fits\n",
      "Fitting 3 folds for each of 1 candidates, totalling 3 fits\n",
      "Fitting 3 folds for each of 1 candidates, totalling 3 fits\n",
      "Fitting 3 folds for each of 1 candidates, totalling 3 fits\n",
      "Fitting 3 folds for each of 1 candidates, totalling 3 fits\n",
      "Fitting 3 folds for each of 1 candidates, totalling 3 fits\n",
      "Fitting 3 folds for each of 1 candidates, totalling 3 fits\n",
      "Fitting 3 folds for each of 1 candidates, totalling 3 fits\n",
      "Fitting 3 folds for each of 1 candidates, totalling 3 fits\n",
      "Fitting 3 folds for each of 1 candidates, totalling 3 fits\n",
      "Fitting 3 folds for each of 1 candidates, totalling 3 fits\n",
      "Fitting 3 folds for each of 1 candidates, totalling 3 fits\n",
      "Fitting 3 folds for each of 1 candidates, totalling 3 fits\n",
      "Fitting 3 folds for each of 1 candidates, totalling 3 fits\n",
      "Fitting 3 folds for each of 1 candidates, totalling 3 fits\n",
      "Fitting 3 folds for each of 1 candidates, totalling 3 fits\n",
      "Fitting 3 folds for each of 1 candidates, totalling 3 fits\n",
      "Fitting 3 folds for each of 1 candidates, totalling 3 fits\n",
      "Fitting 3 folds for each of 1 candidates, totalling 3 fits\n",
      "Fitting 3 folds for each of 1 candidates, totalling 3 fits\n",
      "Fitting 3 folds for each of 1 candidates, totalling 3 fits\n",
      "Fitting 3 folds for each of 1 candidates, totalling 3 fits\n",
      "Fitting 3 folds for each of 1 candidates, totalling 3 fits\n",
      "Fitting 3 folds for each of 1 candidates, totalling 3 fits\n",
      "Fitting 3 folds for each of 1 candidates, totalling 3 fits\n",
      "Fitting 3 folds for each of 1 candidates, totalling 3 fits\n",
      "best score 0.8582010652056825\n",
      "best score OrderedDict([('my_classifier__C', 0.001), ('my_classifier__degree', 1), ('my_classifier__gamma', 0.7), ('my_classifier__kernel', 'linear'), ('preprocessor__num__imputer__strategy', 'median')])\n"
     ]
    }
   ],
   "source": [
    "# specifying the search space (hyperparameters)\n",
    "param = {\n",
    "    'preprocessor__num__imputer__strategy': ['mean', 'median', 'most_frequent'],\n",
    "    'my_classifier__kernel': ['linear', 'rbf', 'poly'],\n",
    "    'my_classifier__C': [0.001, 0.01, 0.1, 1, 10, 100, 200],\n",
    "    'my_classifier__gamma': [0.1, 0.5, 0.7, 1],\n",
    "    'my_classifier__degree': [1, 2, 3, 4, 5]       \n",
    "}\n",
    "\n",
    "# three-fold cross-validation\n",
    "bayes_search = BayesSearchCV(\n",
    "    full_pipline, param, cv=3, n_iter=30, random_state=0, verbose=1, n_jobs=2, \n",
    "    scoring='roc_auc')\n",
    "\n",
    "bayes_search.fit(X, y)\n",
    "\n",
    "print('best score {}'.format(bayes_search.best_score_))\n",
    "print('best score {}'.format(bayes_search.best_params_))\n"
   ]
  },
  {
   "cell_type": "code",
   "execution_count": 35,
   "metadata": {},
   "outputs": [
    {
     "ename": "SyntaxError",
     "evalue": "EOL while scanning string literal (2142406318.py, line 2)",
     "output_type": "error",
     "traceback": [
      "\u001b[1;36m  File \u001b[1;32m\"C:\\Users\\DEBI\\AppData\\Local\\Temp\\ipykernel_1436\\2142406318.py\"\u001b[1;36m, line \u001b[1;32m2\u001b[0m\n\u001b[1;33m    result_to_csv(test_df, bayes_search, 'SVC_Pipeline_with_BayesSearchCV.csv)\u001b[0m\n\u001b[1;37m                                                                              ^\u001b[0m\n\u001b[1;31mSyntaxError\u001b[0m\u001b[1;31m:\u001b[0m EOL while scanning string literal\n"
     ]
    }
   ],
   "source": [
    "# call saveResult function to save the predicted result to csv file\n",
    "result_to_csv(test_df, bayes_search, 'SVC_Pipeline_with_BayesSearchCV.csv)"
   ]
  },
  {
   "cell_type": "markdown",
   "metadata": {},
   "source": [
    "## Questions "
   ]
  },
  {
   "cell_type": "markdown",
   "metadata": {},
   "source": [
    "## Why a simple linear regression model (without any activation function) is not good for classification task, compared to Perceptron/Logistic regression?\n",
    "\n",
    "*  Linear Regression deals with continuous values whereas classification problems mandate discrete values.\n",
    "*  Sensitive to imbalance data\n",
    "*  Linear regression produces a linear hypothesis function.but in classification problems, our data show up in a grouped distribution."
   ]
  },
  {
   "cell_type": "markdown",
   "metadata": {},
   "source": [
    "## What's a decision tree and how it is different to a logistic regression model?\n",
    "* **decision tree** is a non-parametric supervised learning algorithm, which is utilized for both classification and regression tasks it is used to categorize or make predictions based on how a previous set of questions were answered.\n",
    "\n",
    "* Diffrence between DT and LogReg is : Decision Trees bisect the space into smaller and smaller regions, whereas Logistic Regression fits a single line to divide the space exactly into two. "
   ]
  },
  {
   "cell_type": "markdown",
   "metadata": {},
   "source": [
    "## What's the difference between grid search and random search?\n",
    "\n",
    "* In Grid Search, we try every combination of a preset list of values of the hyper-parameters and choose the best combination based on the cross-validation score. it will give the best combination but it can take a lot of time.\n",
    "\n",
    "* Random search tries random combinations of a range of values (we have to define the number iterations).It is good at testing a wide range of values and normally it reaches a very good combination very fast, but the problem that it doesn’t guarantee to give the best parameter combination"
   ]
  },
  {
   "cell_type": "markdown",
   "metadata": {},
   "source": [
    "## What's the difference between bayesian search and random search?\n",
    " **The random search :**\n",
    "* is an uninformed search method that treats iterations independently.\n",
    "* it runs the risk of missing the ideal set of hyperparameters and forgoing peak model performance.\n",
    "\n",
    "**Bayseian Search :** \n",
    "* is an informed search method, meaning that it learns from previous iterations. The number of trials in this approach is determined by the user.\n",
    "* the Bayesian optimization method can converge to the optimal hyperparameters. Thus, the best hyperparameters can be obtained without exploring the entire sample space.\n",
    "* do not have to incorporate randomness and risk missing the optimal solution."
   ]
  },
  {
   "cell_type": "code",
   "execution_count": null,
   "metadata": {},
   "outputs": [],
   "source": []
  }
 ],
 "metadata": {
  "kernelspec": {
   "display_name": "Python 3 (ipykernel)",
   "language": "python",
   "name": "python3"
  },
  "language_info": {
   "codemirror_mode": {
    "name": "ipython",
    "version": 3
   },
   "file_extension": ".py",
   "mimetype": "text/x-python",
   "name": "python",
   "nbconvert_exporter": "python",
   "pygments_lexer": "ipython3",
   "version": "3.10.9"
  }
 },
 "nbformat": 4,
 "nbformat_minor": 4
}
